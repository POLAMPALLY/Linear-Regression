{
 "cells": [
  {
   "cell_type": "markdown",
   "metadata": {},
   "source": [
    "<div style=\"display:block\">\n",
    "    <div style=\"width: 20%; display: inline-block; text-align: left;\">\n",
    "        <img src=\"https://www.onlinelogomaker.com/blog/wp-content/uploads/2017/09/construction-logo-design.jpg\" style=\"height:75px; margin-left:0px\" />\n",
    "    </div>\n",
    "    <div style=\"width: 59%; display: inline-block\">\n",
    "        <h1  style=\"text-align: center\">Using Linear Regression Model : Price Prediction</h1>\n",
    "        <div style=\"width: 100%; text-align: center; display: inline-block;\"><i>Author:</i> <strong>Banuchandar Polampally</strong> </div>\n",
    "    </div>\n",
    "    <div style=\"width: 20%; text-align: right; display: inline-block;\">\n",
    "        <div style=\"width: 100%; text-align: left; display: inline-block;\">\n",
    "            <i>Created: </i>\n",
    "            <time datetime=\"2016-08-19\" pubdate>May 4th, 2020</time>\n",
    "        </div>\n",
    "        <div style=\"width: 100%; text-align: left; display: inline-block;\">\n",
    "            <i>Modified: </i>\n",
    "            <time datetime=\"2016-08-19\" pubdate>-</time>\n",
    "        </div>\n",
    "    </div>\n",
    "</div>"
   ]
  },
  {
   "cell_type": "markdown",
   "metadata": {},
   "source": [
    "## Linear Regression Model :\n",
    "1. Linear Regression is a core statistics function\n",
    "2. An Analyst should know about the Mathematical function while doing fun with real time data\n",
    "3. Linear regression is a fundamental Machine Learning algorithm, which is used to find the relationship between the scalar response and explonatory variable\n",
    "4. we can use this linear regression for both classification and regression. If we use it for finding wheather the student is pass or fail is a classification and for predicting the price of petrol is a regression"
   ]
  },
  {
   "cell_type": "markdown",
   "metadata": {},
   "source": [
    "### Linear regression :\n",
    "The term linear is referring to linearity in Algebra, which means there is a relationship b/w the two or more variables"
   ]
  },
  {
   "cell_type": "markdown",
   "metadata": {},
   "source": [
    "### Example :\n",
    "Predicting the weight of a person in a relationship with the height. If the height increases then the weight is increasing.\n",
    "1. Yes, here we have simple linear regression and multiple linear regression for the predictions.\n",
    "2. If we have a single dependent variable, we should use simple linear regression\n",
    "3. and If we have multiple dependent variables, we can use the multiple linear regression\n",
    "\n",
    "#### Equation for the Linear Regression :\n",
    "    y = mx + c\n",
    "    y = Dependent Variable\n",
    "    m = Regression Coefficient\n",
    "    x = Independent Variable\n",
    "    c = Constant\n",
    "Let's see the mathematical derivation of the Linear Regression"
   ]
  },
  {
   "cell_type": "markdown",
   "metadata": {},
   "source": [
    "### Mathematical Derivation :\n",
    "Equation for linear regression is y = mx + c\n",
    "1. Let we predict the house price based on the number of bedrooms in some area\n",
    "2. Let us consider 'x' as number of bedrooms and 'y' as the amount in crores."
   ]
  },
  {
   "cell_type": "markdown",
   "metadata": {},
   "source": [
    "### Python programing for Linear Regression Model :\n",
    "Now we are going to implement linear regression model by using python programming using the \"Scikit Learn\" package\n",
    "#### Scikit Learn :\n",
    "1. It is predefined package for the Machine Learning algorithm\n",
    "2. It is used for classification, clustering, and regression. It will help to reduce the code"
   ]
  },
  {
   "cell_type": "markdown",
   "metadata": {},
   "source": [
    "#### Code :\n",
    "Implorting the packages like pandas, Matplotlib and sklearn to our code"
   ]
  },
  {
   "cell_type": "code",
   "execution_count": 1,
   "metadata": {},
   "outputs": [],
   "source": [
    "import pandas as pd\n",
    "from pandas import DataFrame,Series\n",
    "import matplotlib.pyplot as plt\n",
    "import sklearn as sns\n",
    "from sklearn.linear_model import LinearRegression\n",
    "import numpy as np"
   ]
  },
  {
   "cell_type": "code",
   "execution_count": 2,
   "metadata": {},
   "outputs": [
    {
     "name": "stdout",
     "output_type": "stream",
     "text": [
      "   x  y\n",
      "0  1  2\n",
      "1  2  4\n",
      "2  3  5\n",
      "3  4  4\n",
      "4  5  5\n"
     ]
    }
   ],
   "source": [
    "# create example data set\n",
    "d = {'x':pd.Series([1,2,3,4,5]),\n",
    "     'y':pd.Series([2,4,5,4,5])}\n",
    "dataset = pd.DataFrame(d)\n",
    "print(dataset)\n"
   ]
  },
  {
   "cell_type": "code",
   "execution_count": 3,
   "metadata": {},
   "outputs": [],
   "source": [
    "# Assigning the columns like x and y to A and B :\n",
    "A = dataset['x'].values.reshape(-1,1)\n",
    "B = dataset['y'].values.reshape(-1,1)"
   ]
  },
  {
   "cell_type": "code",
   "execution_count": 4,
   "metadata": {},
   "outputs": [
    {
     "data": {
      "text/plain": [
       "LinearRegression(copy_X=True, fit_intercept=True, n_jobs=None,\n",
       "         normalize=False)"
      ]
     },
     "execution_count": 4,
     "metadata": {},
     "output_type": "execute_result"
    }
   ],
   "source": [
    "# Implementing our column values of A and B to the linear regression model\n",
    "model = LinearRegression()\n",
    "model.fit(A,B)"
   ]
  },
  {
   "cell_type": "code",
   "execution_count": 5,
   "metadata": {},
   "outputs": [
    {
     "data": {
      "image/png": "[encoded data removed]",
      "text/plain": [
       "<Figure size 432x288 with 1 Axes>"
      ]
     },
     "metadata": {},
     "output_type": "display_data"
    }
   ],
   "source": [
    "# plotting our dataset values in the grapth :\n",
    "plt.figure()\n",
    "plt.title(\"House Price in Some Area\")\n",
    "plt.xlabel(\"House(Bedrooms)\")\n",
    "plt.ylabel(\"House(Crores)\")\n",
    "plt.plot(A,B,'*')\n",
    "plt.axis([0,10,0,10])\n",
    "plt.grid(True)"
   ]
  },
  {
   "cell_type": "markdown",
   "metadata": {},
   "source": [
    "Predicting the value of 'B'-price of the house from 'A'-no of rooms and the prediction line will be like'------' grapth will be filled grid lines and size of the graph will be 0 to 10"
   ]
  },
  {
   "cell_type": "code",
   "execution_count": 6,
   "metadata": {},
   "outputs": [
    {
     "data": {
      "image/png": "[encoded data removed]",
      "text/plain": [
       "<Figure size 432x288 with 1 Axes>"
      ]
     },
     "metadata": {},
     "output_type": "display_data"
    }
   ],
   "source": [
    "plt.plot(A,B,'*')\n",
    "plt.plot(A,model.predict(A),'-')\n",
    "plt.axis([0,10,0,10])\n",
    "plt.title(\"House Price in Some Area\")\n",
    "plt.xlabel(\"House(Bedrooms)\")\n",
    "plt.ylabel(\"House(Crores)\")\n",
    "plt.grid(True)\n",
    "plt.show()"
   ]
  },
  {
   "cell_type": "markdown",
   "metadata": {},
   "source": [
    "1. Model is fixed and builded to training dataset now\n",
    "### pridicting the cost of 7 bedrooms house"
   ]
  },
  {
   "cell_type": "code",
   "execution_count": 16,
   "metadata": {},
   "outputs": [
    {
     "name": "stdout",
     "output_type": "stream",
     "text": [
      "Predicted Price =  [[6.4]]\n"
     ]
    }
   ],
   "source": [
    "print(\"Predicted Price = \", model.predict([[7]]))"
   ]
  },
  {
   "cell_type": "markdown",
   "metadata": {},
   "source": [
    "The prediction for 7BHK cost will be 6.4 crores"
   ]
  },
  {
   "cell_type": "markdown",
   "metadata": {},
   "source": [
    "Before fix the model we should know the R-Square Value\n",
    "### What is R-Square ?\n",
    "It is used to find how the predicted regression lines fits with the actual data provided. The R-Square value is between 0-1 if the value is above 0.75, the accuracy level is heigh and the value is 0.74 defines the accuracy level is low."
   ]
  },
  {
   "cell_type": "code",
   "execution_count": 10,
   "metadata": {},
   "outputs": [
    {
     "name": "stdout",
     "output_type": "stream",
     "text": [
      "Score =  0.6000000000000001\n"
     ]
    }
   ],
   "source": [
    "print(\"Score = \",model.score(A,B))"
   ]
  },
  {
   "cell_type": "markdown",
   "metadata": {},
   "source": [
    "### Observation :\n",
    "The prediction score is low because we have only the number of the house with the cost. but if we have data for the age of the house, and the distance from the city will give a good prediction score\n"
   ]
  },
  {
   "cell_type": "code",
   "execution_count": null,
   "metadata": {},
   "outputs": [],
   "source": []
  }
 ],
 "metadata": {
  "kernelspec": {
   "display_name": "Python 3",
   "language": "python",
   "name": "python3"
  },
  "language_info": {
   "codemirror_mode": {
    "name": "ipython",
    "version": 3
   },
   "file_extension": ".py",
   "mimetype": "text/x-python",
   "name": "python",
   "nbconvert_exporter": "python",
   "pygments_lexer": "ipython3",
   "version": "3.6.5"
  }
 },
 "nbformat": 4,
 "nbformat_minor": 2
}
